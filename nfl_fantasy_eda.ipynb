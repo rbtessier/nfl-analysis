{
 "cells": [
  {
   "cell_type": "markdown",
   "metadata": {},
   "source": [
    "# NFL Fantasy Analysis\n",
    "\n",
    "Here I'm going to try to anazlyse the stats that help the players on my fantasy roster, I may even train a model for them each (which may require a lot more historial data). Some requirements\n",
    "1. I need to be able to quickly grab the players & defense on my roster as I will have to change players each week\n",
    "2. The first analysis I need to do is on the stats that get me the most posts\n",
    "  1. ie. QB throws to TD\n",
    "  2. 1 is the only\n",
    "\n",
    "## Questions\n",
    "1. Dylan asserted that its better to pickup a QB later as the difference in points between a good and a bad qb isn't as great as the difference between a good RB/WR\n",
    "\n",
    "## Plan\n",
    "\n",
    "### Classes\n",
    "\n",
    "#### Player\n",
    "\n",
    "1. Data: \n",
    "  1. Name\n",
    "  1. Position\n",
    "  1. Team\n",
    "  1. Pandas Dataframe - selecting the year and the player, it shoudl also reduce the dataset columns to just ones relevant to the player position.\n",
    "    - add column with fantasy points per game\n",
    "  1. Dictionary with metadata\n",
    "1. Methods:\n",
    "  1. Constructor - Accepts player and year and grabs data for the player and which year of data\n",
    "    1. Initializes returning # columns and # entries\n",
    "  1. Fantasy Analysis - A method that generates a set of graphs or summary graph suite that give a good indication of the player performance\n",
    "  1. Other specific graphs\n",
    "\n",
    "Grabbing multiple players?\n",
    "  \n",
    "#### Team\n",
    "\n",
    "\n",
    "#### Roster\n",
    "\n",
    "1. Data:\n",
    "  1. Current Date\n",
    "  2. line\n",
    "  3. bench\n",
    "1. \n",
    "  1. Add\n",
    "  2. Delete player\n",
    "  3. Send (to bench or to line)"
   ]
  },
  {
   "cell_type": "markdown",
   "metadata": {},
   "source": [
    "# Log\n",
    "\n",
    "- Oct 6: brought in all datasets and also created function that takes an off player played games ie. `off_stats` and calculates their fantasy points for that game using a fantasy fules dataset `fan_off_points`."
   ]
  },
  {
   "cell_type": "code",
   "execution_count": 1,
   "metadata": {},
   "outputs": [],
   "source": [
    "from operator import index\n",
    "import pandas as pd\n",
    "import numpy as np\n",
    "import seaborn as sns\n",
    "\n",
    "off_stats = pd.read_csv(\"nfl_pass_rush_receive_raw_data.csv\")\n",
    "kick_stats = pd.read_csv(\"nfl_kicking_raw_data.csv\")\n",
    "def_stats = pd.read_csv(\"nfl_dst_raw_data.csv\")\n",
    "nfl_teams = pd.read_csv(\"nfl_teams.csv\")\n",
    "fan_off_points = pd.read_csv(\"fan_off_points.csv\", index_col= \"stat_code\")\n",
    "\n",
    "off_stats['game_date'] = pd.to_datetime(off_stats['game_date'])"
   ]
  },
  {
   "cell_type": "code",
   "execution_count": 2,
   "metadata": {},
   "outputs": [
    {
     "data": {
      "text/html": [
       "<div>\n",
       "<style scoped>\n",
       "    .dataframe tbody tr th:only-of-type {\n",
       "        vertical-align: middle;\n",
       "    }\n",
       "\n",
       "    .dataframe tbody tr th {\n",
       "        vertical-align: top;\n",
       "    }\n",
       "\n",
       "    .dataframe thead th {\n",
       "        text-align: right;\n",
       "    }\n",
       "</style>\n",
       "<table border=\"1\" class=\"dataframe\">\n",
       "  <thead>\n",
       "    <tr style=\"text-align: right;\">\n",
       "      <th></th>\n",
       "      <th>player</th>\n",
       "      <th>player_won</th>\n",
       "      <th>game_date</th>\n",
       "    </tr>\n",
       "  </thead>\n",
       "  <tbody>\n",
       "    <tr>\n",
       "      <th>7256</th>\n",
       "      <td>Kenyan Drake</td>\n",
       "      <td>L</td>\n",
       "      <td>2020-09-27</td>\n",
       "    </tr>\n",
       "    <tr>\n",
       "      <th>2350</th>\n",
       "      <td>Adam Thielen</td>\n",
       "      <td>W</td>\n",
       "      <td>2019-10-20</td>\n",
       "    </tr>\n",
       "    <tr>\n",
       "      <th>1610</th>\n",
       "      <td>LeSean McCoy</td>\n",
       "      <td>L</td>\n",
       "      <td>2019-10-06</td>\n",
       "    </tr>\n",
       "    <tr>\n",
       "      <th>6990</th>\n",
       "      <td>Malcolm Brown</td>\n",
       "      <td>W</td>\n",
       "      <td>2020-09-20</td>\n",
       "    </tr>\n",
       "    <tr>\n",
       "      <th>2853</th>\n",
       "      <td>Diontae Johnson</td>\n",
       "      <td>W</td>\n",
       "      <td>2019-10-28</td>\n",
       "    </tr>\n",
       "    <tr>\n",
       "      <th>56</th>\n",
       "      <td>A.J. Brown</td>\n",
       "      <td>W</td>\n",
       "      <td>2019-09-08</td>\n",
       "    </tr>\n",
       "    <tr>\n",
       "      <th>15784</th>\n",
       "      <td>Jermar Jefferson</td>\n",
       "      <td>L</td>\n",
       "      <td>2021-10-31</td>\n",
       "    </tr>\n",
       "    <tr>\n",
       "      <th>8333</th>\n",
       "      <td>Jakeem Grant</td>\n",
       "      <td>W</td>\n",
       "      <td>2020-10-18</td>\n",
       "    </tr>\n",
       "    <tr>\n",
       "      <th>664</th>\n",
       "      <td>Darren Waller</td>\n",
       "      <td>L</td>\n",
       "      <td>2019-09-15</td>\n",
       "    </tr>\n",
       "    <tr>\n",
       "      <th>11493</th>\n",
       "      <td>DaeSean Hamilton</td>\n",
       "      <td>L</td>\n",
       "      <td>2020-12-19</td>\n",
       "    </tr>\n",
       "  </tbody>\n",
       "</table>\n",
       "</div>"
      ],
      "text/plain": [
       "                 player player_won   game_date\n",
       "7256       Kenyan Drake          L  2020-09-27\n",
       "2350       Adam Thielen          W  2019-10-20\n",
       "1610       LeSean McCoy          L  2019-10-06\n",
       "6990      Malcolm Brown          W  2020-09-20\n",
       "2853    Diontae Johnson          W  2019-10-28\n",
       "56           A.J. Brown          W  2019-09-08\n",
       "15784  Jermar Jefferson          L  2021-10-31\n",
       "8333       Jakeem Grant          W  2020-10-18\n",
       "664       Darren Waller          L  2019-09-15\n",
       "11493  DaeSean Hamilton          L  2020-12-19"
      ]
     },
     "execution_count": 2,
     "metadata": {},
     "output_type": "execute_result"
    }
   ],
   "source": [
    "def add_win_lose(off_stats):\n",
    "    \"\"\"In-place addition of a column identifying whether the players team won or lost\"\"\"\n",
    "    \n",
    "    off_stats['player_won'] = off_stats.apply(lambda row: win_lose_draw(row), axis = 1)\n",
    "\n",
    "\n",
    "# probably overcomplicating things\n",
    "def win_lose_draw(row):\n",
    "    \"\"\"outputs whether the row (which corresponds to a player) with a given side won or lost or drew\"\"\"\n",
    "\n",
    "    if row['team'] == row['home_team']:\n",
    "        side = 'home'\n",
    "    else:\n",
    "        side = 'vis'\n",
    "\n",
    "    side_score = side + '_score'\n",
    "    #ensures that if the row is on one side, the otherside is the opposite team\n",
    "    otherside_score = 'vis_score' if side == 'home' else 'home_score'\n",
    "\n",
    "    score_difference = row[side_score] - row[otherside_score]\n",
    "    if  score_difference > 0:\n",
    "        return \"W\"\n",
    "    elif score_difference < 0:\n",
    "        return \"L\"\n",
    "    else:\n",
    "        return \"D\"\n",
    "\n",
    "def add_season(off_stats);\n",
    "    off_stats['season'] = off_stats.apply()\n",
    "\n",
    "\n",
    "off_stats['player_won'] = off_stats.apply(lambda row: win_lose_draw(row), axis = 1)\n",
    "off_stats[['player', 'player_won', 'game_date']].sample(10)"
   ]
  },
  {
   "cell_type": "code",
   "execution_count": 3,
   "metadata": {},
   "outputs": [
    {
     "name": "stdout",
     "output_type": "stream",
     "text": [
      "(19973, 71)\n",
      "<class 'pandas.core.frame.DataFrame'>\n",
      "RangeIndex: 19973 entries, 0 to 19972\n",
      "Data columns (total 71 columns):\n",
      " #   Column                        Non-Null Count  Dtype  \n",
      "---  ------                        --------------  -----  \n",
      " 0   game_id                       19973 non-null  object \n",
      " 1   player_id                     19973 non-null  object \n",
      " 2   pos                           19973 non-null  object \n",
      " 3   player                        19973 non-null  object \n",
      " 4   team                          19973 non-null  object \n",
      " 5   pass_cmp                      19973 non-null  int64  \n",
      " 6   pass_att                      19973 non-null  int64  \n",
      " 7   pass_yds                      19973 non-null  int64  \n",
      " 8   pass_td                       19973 non-null  int64  \n",
      " 9   pass_int                      19973 non-null  int64  \n",
      " 10  pass_sacked                   19973 non-null  int64  \n",
      " 11  pass_sacked_yds               19973 non-null  int64  \n",
      " 12  pass_long                     19973 non-null  int64  \n",
      " 13  pass_rating                   19973 non-null  float64\n",
      " 14  rush_att                      19973 non-null  int64  \n",
      " 15  rush_yds                      19973 non-null  int64  \n",
      " 16  rush_td                       19973 non-null  int64  \n",
      " 17  rush_long                     19973 non-null  int64  \n",
      " 18  targets                       19973 non-null  int64  \n",
      " 19  rec                           19973 non-null  int64  \n",
      " 20  rec_yds                       19973 non-null  int64  \n",
      " 21  rec_td                        19973 non-null  int64  \n",
      " 22  rec_long                      19973 non-null  int64  \n",
      " 23  fumbles_lost                  19973 non-null  int64  \n",
      " 24  rush_scrambles                19973 non-null  int64  \n",
      " 25  designed_rush_att             19973 non-null  int64  \n",
      " 26  comb_pass_rush_play           19973 non-null  int64  \n",
      " 27  comb_pass_play                19973 non-null  int64  \n",
      " 28  comb_rush_play                19973 non-null  int64  \n",
      " 29  Team_abbrev                   19973 non-null  object \n",
      " 30  Opponent_abbrev               19973 non-null  object \n",
      " 31  two_point_conv                19973 non-null  int64  \n",
      " 32  total_ret_td                  19973 non-null  int64  \n",
      " 33  offensive_fumble_recovery_td  19973 non-null  int64  \n",
      " 34  pass_yds_bonus                19973 non-null  int64  \n",
      " 35  rush_yds_bonus                19973 non-null  int64  \n",
      " 36  rec_yds_bonus                 19973 non-null  int64  \n",
      " 37  Total_DKP                     19973 non-null  float64\n",
      " 38  Off_DKP                       19973 non-null  float64\n",
      " 39  Total_FDP                     19973 non-null  float64\n",
      " 40  Off_FDP                       19973 non-null  float64\n",
      " 41  Total_SDP                     19973 non-null  float64\n",
      " 42  Off_SDP                       19973 non-null  float64\n",
      " 43  pass_target_yds               19973 non-null  int64  \n",
      " 44  pass_poor_throws              19973 non-null  int64  \n",
      " 45  pass_blitzed                  19973 non-null  int64  \n",
      " 46  pass_hurried                  19973 non-null  int64  \n",
      " 47  rush_yds_before_contact       19973 non-null  int64  \n",
      " 48  rush_yac                      19973 non-null  int64  \n",
      " 49  rush_broken_tackles           19973 non-null  int64  \n",
      " 50  rec_air_yds                   19973 non-null  float64\n",
      " 51  rec_yac                       19973 non-null  int64  \n",
      " 52  rec_drops                     19973 non-null  int64  \n",
      " 53  offense                       19973 non-null  int64  \n",
      " 54  off_pct                       19973 non-null  int64  \n",
      " 55  vis_team                      19973 non-null  object \n",
      " 56  home_team                     19973 non-null  object \n",
      " 57  vis_score                     19973 non-null  int64  \n",
      " 58  home_score                    19973 non-null  int64  \n",
      " 59  OT                            19973 non-null  bool   \n",
      " 60  Roof                          19973 non-null  object \n",
      " 61  Surface                       19973 non-null  object \n",
      " 62  Temperature                   19973 non-null  int64  \n",
      " 63  Humidity                      19973 non-null  int64  \n",
      " 64  Wind_Speed                    19973 non-null  int64  \n",
      " 65  Vegas_Line                    19973 non-null  float64\n",
      " 66  Vegas_Favorite                19927 non-null  object \n",
      " 67  Over_Under                    19973 non-null  float64\n",
      " 68  game_date                     19973 non-null  object \n",
      " 69  player_won                    19973 non-null  object \n",
      " 70  yahoo_fan_pts                 19973 non-null  float64\n",
      "dtypes: bool(1), float64(11), int64(45), object(14)\n",
      "memory usage: 10.7+ MB\n",
      "None\n"
     ]
    }
   ],
   "source": [
    "\n",
    "def add_fantasy_points_off(off_stats, fan_off_points):\n",
    "    \"\"\"in-place calculates a new column for input offensive data off_stats which has the total fantasy points earned based on the rules in the input dataset fan_off_points\"\"\"\n",
    "\n",
    "    # take the fantasy offence points dataset and grab the stats which contribute fantasy points\n",
    "    fan_off_stats_list = fan_off_points.index.values.tolist()\n",
    "\n",
    "    #create a dataframe with games and their fantasy stats converted to points\n",
    "    stat_points = pd.DataFrame()\n",
    "    for stat in fan_off_stats_list:\n",
    "        points = fan_off_points.loc[stat,:][1]\n",
    "        stat_points[stat] = points*off_stats[stat]\n",
    "\n",
    "    # total the points for each game\n",
    "    temp_df = pd.DataFrame(np.zeros((len(off_stats), 1)))\n",
    "    temp_df = stat_points.sum(axis = 1)\n",
    "    temp_df.head()\n",
    "\n",
    "    # create a new column for off_ stats which contains fantasy point totals for each game\n",
    "    off_stats['yahoo_fan_pts'] = temp_df\n",
    "\n",
    "\n",
    "add_fantasy_points_off(off_stats, fan_off_points)\n",
    "print(off_stats.shape)\n",
    "print(off_stats.info())\n",
    "\n",
    "#sns.histplot(data = off_stats, x = 'yahoo_fan_pts')\n",
    "#(off_stats.loc[off_stats['yahoo_fan_pts'] >40])['player'].value_counts()"
   ]
  },
  {
   "cell_type": "code",
   "execution_count": 4,
   "metadata": {},
   "outputs": [
    {
     "data": {
      "text/plain": [
       "<seaborn.axisgrid.FacetGrid at 0x17849147490>"
      ]
     },
     "execution_count": 4,
     "metadata": {},
     "output_type": "execute_result"
    },
    {
     "data": {
      "image/png": "[encoded data removed]",
      "text/plain": [
       "<Figure size 2000x500 with 4 Axes>"
      ]
     },
     "metadata": {},
     "output_type": "display_data"
    }
   ],
   "source": [
    "#historgram of QB fantasy points scored\n",
    "#sns.histplot(data = off_stats[off_stats['pos'] == 'QB'], x = 'yahoo_fan_pts')\n",
    "#sns.histplot(data = off_stats[off_stats['pos'] == 'WR'], x = 'yahoo_fan_pts')\n",
    "#sns.histplot(data = off_stats[off_stats['pos'] == 'RB'], x = 'yahoo_fan_pts')\n",
    "#sns.histplot(data = off_stats[off_stats['pos'] == 'TE'], x = 'yahoo_fan_pts')\n",
    "sns.displot(data = off_stats[off_stats['pos'].isin(['QB', 'WR', 'RB', 'TE'])], x = 'yahoo_fan_pts', col = 'pos')"
   ]
  },
  {
   "cell_type": "code",
   "execution_count": 5,
   "metadata": {},
   "outputs": [
    {
     "name": "stdout",
     "output_type": "stream",
     "text": [
      "Wide Receivers\n",
      "count    42.000000\n",
      "mean     15.297619\n",
      "std       7.171675\n",
      "min       5.500000\n",
      "25%       9.125000\n",
      "50%      14.650000\n",
      "75%      19.850000\n",
      "max      30.600000\n",
      "Name: yahoo_fan_pts, dtype: float64\n",
      "count    47.000000\n",
      "mean     13.674468\n",
      "std       7.579190\n",
      "min       0.000000\n",
      "25%       7.900000\n",
      "50%      13.100000\n",
      "75%      18.100000\n",
      "max      30.300000\n",
      "Name: yahoo_fan_pts, dtype: float64\n",
      "count    37.000000\n",
      "mean      9.175676\n",
      "std       9.691818\n",
      "min       0.000000\n",
      "25%       2.600000\n",
      "50%       7.000000\n",
      "75%      12.500000\n",
      "max      52.100000\n",
      "Name: yahoo_fan_pts, dtype: float64\n"
     ]
    },
    {
     "data": {
      "image/png": "[encoded data removed]",
      "text/plain": [
       "<Figure size 640x480 with 1 Axes>"
      ]
     },
     "metadata": {},
     "output_type": "display_data"
    }
   ],
   "source": [
    "def describe(off_stats, player_name):\n",
    "    player = off_stats[off_stats['player'] == player_name]\n",
    "    print(player['yahoo_fan_pts'].describe())\n",
    "    sns.histplot(data = player, x = 'yahoo_fan_pts', bins = 10)\n",
    "\n",
    "\n",
    "# below I'm going to try grabbing the data for a player on my fantasy roster - Josh Allen\n",
    "# After this I will send in a list - my list of fantasy players\n",
    "fan_roster_dict ={\"date\": \"2022-10-6\", \"line\": [\"Josh Allen\", \"Terry McLaurin\",\"Robert Woods\", \"Joe Mixon\", \"Rashaad Penny\", \"Dalton Schultz\", \"Gabriel Davis\"], \"bench\": [ \"Donovan Peoples-Jones\", \"Keenan Allen\", \"Rex Burkhead\", \"Kenneth Gainwell\", \"Albert Okwuegbunam\", \"Matt Ryan\"], \"defense\": \"GNB\"}\n",
    "print(\"Wide Receivers\")\n",
    "describe(off_stats, \"Robert Woods\")\n",
    "describe(off_stats, \"Terry McLaurin\")\n",
    "describe(off_stats, \"Gabriel Davis\")"
   ]
  },
  {
   "cell_type": "code",
   "execution_count": 9,
   "metadata": {},
   "outputs": [
    {
     "data": {
      "text/plain": [
       "<seaborn.axisgrid.FacetGrid at 0x178495fce80>"
      ]
     },
     "execution_count": 9,
     "metadata": {},
     "output_type": "execute_result"
    },
    {
     "data": {
      "image/png": "[encoded data removed]",
      "text/plain": [
       "<Figure size 590.611x500 with 1 Axes>"
      ]
     },
     "metadata": {},
     "output_type": "display_data"
    }
   ],
   "source": [
    "#sns.catplot(data = off_stats[off_stats['player'].isin(fan_roster_dict['line'])], x = 'yahoo_fan_pts', y = 'player')\n",
    "#sns.violinplot(data = off_stats[off_stats['player'].isin(fan_roster_dict['line'])], x = 'yahoo_fan_pts', y = 'player')\n",
    "sns.catplot(data = off_stats[off_stats['player'].isin(fan_roster_dict['line'])], x = 'yahoo_fan_pts', y = 'player', hue = 'player_won', kind = 'box')"
   ]
  },
  {
   "cell_type": "code",
   "execution_count": 20,
   "metadata": {},
   "outputs": [
    {
     "data": {
      "text/plain": [
       "<seaborn.axisgrid.FacetGrid at 0x1250f9e13f0>"
      ]
     },
     "execution_count": 20,
     "metadata": {},
     "output_type": "execute_result"
    },
    {
     "data": {
      "image/png": "[encoded data removed]",
      "text/plain": [
       "<Figure size 500x500 with 1 Axes>"
      ]
     },
     "metadata": {},
     "output_type": "display_data"
    }
   ],
   "source": [
    "#sns.catplot(data = off_stats[off_stats['player'].isin(fan_roster_dict['bench'])], x = 'yahoo_fan_pts', y = 'player')\n",
    "#sns.violinplot(data = off_stats[off_stats['player'].isin(fan_roster_dict['bench'])], x = 'yahoo_fan_pts', y = 'player')\n",
    "sns.catplot(data = off_stats[np.logical_or(off_stats['player'].isin(fan_roster_dict['bench']),off_stats['player'].isin(['Hunter Renfrow', 'Allen Robinson']))], x = 'yahoo_fan_pts', y = 'player', kind = 'box')"
   ]
  },
  {
   "cell_type": "code",
   "execution_count": 16,
   "metadata": {},
   "outputs": [
    {
     "data": {
      "text/plain": [
       "<seaborn.axisgrid.FacetGrid at 0x1250eab7d60>"
      ]
     },
     "execution_count": 16,
     "metadata": {},
     "output_type": "execute_result"
    },
    {
     "data": {
      "image/png": "[encoded data removed]",
      "text/plain": [
       "<Figure size 500x500 with 1 Axes>"
      ]
     },
     "metadata": {},
     "output_type": "display_data"
    }
   ],
   "source": [
    "sns.catplot(data = off_stats[off_stats['player']== 'Hunter Renfrow'], x = 'yahoo_fan_pts', y = 'player', kind = 'box')"
   ]
  },
  {
   "cell_type": "code",
   "execution_count": 41,
   "metadata": {},
   "outputs": [
    {
     "name": "stdout",
     "output_type": "stream",
     "text": [
      "Line Fantasy Point Summary Statistics\n"
     ]
    },
    {
     "data": {
      "text/html": [
       "<div>\n",
       "<style scoped>\n",
       "    .dataframe tbody tr th:only-of-type {\n",
       "        vertical-align: middle;\n",
       "    }\n",
       "\n",
       "    .dataframe tbody tr th {\n",
       "        vertical-align: top;\n",
       "    }\n",
       "\n",
       "    .dataframe thead th {\n",
       "        text-align: right;\n",
       "    }\n",
       "</style>\n",
       "<table border=\"1\" class=\"dataframe\">\n",
       "  <thead>\n",
       "    <tr style=\"text-align: right;\">\n",
       "      <th></th>\n",
       "      <th>Josh Allen</th>\n",
       "      <th>Terry McLaurin</th>\n",
       "      <th>Robert Woods</th>\n",
       "      <th>Joe Mixon</th>\n",
       "      <th>Rashaad Penny</th>\n",
       "      <th>Dalton Schultz</th>\n",
       "      <th>Gabriel Davis</th>\n",
       "    </tr>\n",
       "  </thead>\n",
       "  <tbody>\n",
       "    <tr>\n",
       "      <th>count</th>\n",
       "      <td>55.000000</td>\n",
       "      <td>47.000000</td>\n",
       "      <td>42.000000</td>\n",
       "      <td>42.000000</td>\n",
       "      <td>23.000000</td>\n",
       "      <td>50.000000</td>\n",
       "      <td>37.000000</td>\n",
       "    </tr>\n",
       "    <tr>\n",
       "      <th>mean</th>\n",
       "      <td>22.938545</td>\n",
       "      <td>13.674468</td>\n",
       "      <td>15.297619</td>\n",
       "      <td>16.143810</td>\n",
       "      <td>8.713043</td>\n",
       "      <td>7.456000</td>\n",
       "      <td>9.175676</td>\n",
       "    </tr>\n",
       "    <tr>\n",
       "      <th>std</th>\n",
       "      <td>8.811003</td>\n",
       "      <td>7.579190</td>\n",
       "      <td>7.171675</td>\n",
       "      <td>8.806418</td>\n",
       "      <td>10.620876</td>\n",
       "      <td>7.322405</td>\n",
       "      <td>9.691818</td>\n",
       "    </tr>\n",
       "    <tr>\n",
       "      <th>min</th>\n",
       "      <td>0.200000</td>\n",
       "      <td>0.000000</td>\n",
       "      <td>5.500000</td>\n",
       "      <td>3.700000</td>\n",
       "      <td>-1.800000</td>\n",
       "      <td>0.000000</td>\n",
       "      <td>0.000000</td>\n",
       "    </tr>\n",
       "    <tr>\n",
       "      <th>25%</th>\n",
       "      <td>16.520000</td>\n",
       "      <td>7.900000</td>\n",
       "      <td>9.125000</td>\n",
       "      <td>9.325000</td>\n",
       "      <td>0.900000</td>\n",
       "      <td>0.000000</td>\n",
       "      <td>2.600000</td>\n",
       "    </tr>\n",
       "    <tr>\n",
       "      <th>50%</th>\n",
       "      <td>20.940000</td>\n",
       "      <td>13.100000</td>\n",
       "      <td>14.650000</td>\n",
       "      <td>14.700000</td>\n",
       "      <td>2.600000</td>\n",
       "      <td>6.900000</td>\n",
       "      <td>7.000000</td>\n",
       "    </tr>\n",
       "    <tr>\n",
       "      <th>75%</th>\n",
       "      <td>29.780000</td>\n",
       "      <td>18.100000</td>\n",
       "      <td>19.850000</td>\n",
       "      <td>21.525000</td>\n",
       "      <td>16.200000</td>\n",
       "      <td>12.225000</td>\n",
       "      <td>12.500000</td>\n",
       "    </tr>\n",
       "    <tr>\n",
       "      <th>max</th>\n",
       "      <td>38.920000</td>\n",
       "      <td>30.300000</td>\n",
       "      <td>30.600000</td>\n",
       "      <td>42.100000</td>\n",
       "      <td>32.500000</td>\n",
       "      <td>26.000000</td>\n",
       "      <td>52.100000</td>\n",
       "    </tr>\n",
       "  </tbody>\n",
       "</table>\n",
       "</div>"
      ],
      "text/plain": [
       "       Josh Allen  Terry McLaurin  Robert Woods  Joe Mixon  Rashaad Penny  \\\n",
       "count   55.000000       47.000000     42.000000  42.000000      23.000000   \n",
       "mean    22.938545       13.674468     15.297619  16.143810       8.713043   \n",
       "std      8.811003        7.579190      7.171675   8.806418      10.620876   \n",
       "min      0.200000        0.000000      5.500000   3.700000      -1.800000   \n",
       "25%     16.520000        7.900000      9.125000   9.325000       0.900000   \n",
       "50%     20.940000       13.100000     14.650000  14.700000       2.600000   \n",
       "75%     29.780000       18.100000     19.850000  21.525000      16.200000   \n",
       "max     38.920000       30.300000     30.600000  42.100000      32.500000   \n",
       "\n",
       "       Dalton Schultz  Gabriel Davis  \n",
       "count       50.000000      37.000000  \n",
       "mean         7.456000       9.175676  \n",
       "std          7.322405       9.691818  \n",
       "min          0.000000       0.000000  \n",
       "25%          0.000000       2.600000  \n",
       "50%          6.900000       7.000000  \n",
       "75%         12.225000      12.500000  \n",
       "max         26.000000      52.100000  "
      ]
     },
     "execution_count": 41,
     "metadata": {},
     "output_type": "execute_result"
    }
   ],
   "source": [
    "line_fan_summary = pd.DataFrame()\n",
    "for player_name in fan_roster_dict['line']:\n",
    "    next_player = (off_stats[off_stats['player'] == player_name])['yahoo_fan_pts'].describe()\n",
    "    next_player = next_player.rename(player_name)\n",
    "    if len(line_fan_summary) == 0:\n",
    "        line_fan_summary= next_player\n",
    "    else:\n",
    "        line_fan_summary = pd.concat([line_fan_summary, next_player], axis = 1) \n",
    "\n",
    "print(\"Line Fantasy Point Summary Statistics\")\n",
    "line_fan_summary"
   ]
  },
  {
   "cell_type": "code",
   "execution_count": 22,
   "metadata": {},
   "outputs": [
    {
     "name": "stdout",
     "output_type": "stream",
     "text": [
      "Running Backs\n",
      "count    42.000000\n",
      "mean     16.143810\n",
      "std       8.806418\n",
      "min       3.700000\n",
      "25%       9.325000\n",
      "50%      14.700000\n",
      "75%      21.525000\n",
      "max      42.100000\n",
      "Name: yahoo_fan_pts, dtype: float64\n",
      "count    23.000000\n",
      "mean      8.713043\n",
      "std      10.620876\n",
      "min      -1.800000\n",
      "25%       0.900000\n",
      "50%       2.600000\n",
      "75%      16.200000\n",
      "max      32.500000\n",
      "Name: yahoo_fan_pts, dtype: float64\n"
     ]
    },
    {
     "data": {
      "image/png": "[encoded data removed]",
      "text/plain": [
       "<Figure size 640x480 with 1 Axes>"
      ]
     },
     "metadata": {},
     "output_type": "display_data"
    }
   ],
   "source": [
    "print(\"Running Backs\")\n",
    "describe(off_stats, \"Joe Mixon\")\n",
    "describe(off_stats, \"Rashaad Penny\")"
   ]
  },
  {
   "cell_type": "code",
   "execution_count": null,
   "metadata": {},
   "outputs": [],
   "source": []
  },
  {
   "cell_type": "code",
   "execution_count": 7,
   "metadata": {},
   "outputs": [
    {
     "name": "stdout",
     "output_type": "stream",
     "text": [
      "<class 'pandas.core.frame.DataFrame'>\n",
      "Int64Index: 55 entries, 217 to 19862\n",
      "Data columns (total 69 columns):\n",
      " #   Column                        Non-Null Count  Dtype  \n",
      "---  ------                        --------------  -----  \n",
      " 0   game_id                       55 non-null     object \n",
      " 1   player_id                     55 non-null     object \n",
      " 2   pos                           55 non-null     object \n",
      " 3   player                        55 non-null     object \n",
      " 4   team                          55 non-null     object \n",
      " 5   pass_cmp                      55 non-null     int64  \n",
      " 6   pass_att                      55 non-null     int64  \n",
      " 7   pass_yds                      55 non-null     int64  \n",
      " 8   pass_td                       55 non-null     int64  \n",
      " 9   pass_int                      55 non-null     int64  \n",
      " 10  pass_sacked                   55 non-null     int64  \n",
      " 11  pass_sacked_yds               55 non-null     int64  \n",
      " 12  pass_long                     55 non-null     int64  \n",
      " 13  pass_rating                   55 non-null     float64\n",
      " 14  rush_att                      55 non-null     int64  \n",
      " 15  rush_yds                      55 non-null     int64  \n",
      " 16  rush_td                       55 non-null     int64  \n",
      " 17  rush_long                     55 non-null     int64  \n",
      " 18  targets                       55 non-null     int64  \n",
      " 19  rec                           55 non-null     int64  \n",
      " 20  rec_yds                       55 non-null     int64  \n",
      " 21  rec_td                        55 non-null     int64  \n",
      " 22  rec_long                      55 non-null     int64  \n",
      " 23  fumbles_lost                  55 non-null     int64  \n",
      " 24  rush_scrambles                55 non-null     int64  \n",
      " 25  designed_rush_att             55 non-null     int64  \n",
      " 26  comb_pass_rush_play           55 non-null     int64  \n",
      " 27  comb_pass_play                55 non-null     int64  \n",
      " 28  comb_rush_play                55 non-null     int64  \n",
      " 29  Team_abbrev                   55 non-null     object \n",
      " 30  Opponent_abbrev               55 non-null     object \n",
      " 31  two_point_conv                55 non-null     int64  \n",
      " 32  total_ret_td                  55 non-null     int64  \n",
      " 33  offensive_fumble_recovery_td  55 non-null     int64  \n",
      " 34  pass_yds_bonus                55 non-null     int64  \n",
      " 35  rush_yds_bonus                55 non-null     int64  \n",
      " 36  rec_yds_bonus                 55 non-null     int64  \n",
      " 37  Total_DKP                     55 non-null     float64\n",
      " 38  Off_DKP                       55 non-null     float64\n",
      " 39  Total_FDP                     55 non-null     float64\n",
      " 40  Off_FDP                       55 non-null     float64\n",
      " 41  Total_SDP                     55 non-null     float64\n",
      " 42  Off_SDP                       55 non-null     float64\n",
      " 43  pass_target_yds               55 non-null     int64  \n",
      " 44  pass_poor_throws              55 non-null     int64  \n",
      " 45  pass_blitzed                  55 non-null     int64  \n",
      " 46  pass_hurried                  55 non-null     int64  \n",
      " 47  rush_yds_before_contact       55 non-null     int64  \n",
      " 48  rush_yac                      55 non-null     int64  \n",
      " 49  rush_broken_tackles           55 non-null     int64  \n",
      " 50  rec_air_yds                   55 non-null     float64\n",
      " 51  rec_yac                       55 non-null     int64  \n",
      " 52  rec_drops                     55 non-null     int64  \n",
      " 53  offense                       55 non-null     int64  \n",
      " 54  off_pct                       55 non-null     int64  \n",
      " 55  vis_team                      55 non-null     object \n",
      " 56  home_team                     55 non-null     object \n",
      " 57  vis_score                     55 non-null     int64  \n",
      " 58  home_score                    55 non-null     int64  \n",
      " 59  OT                            55 non-null     bool   \n",
      " 60  Roof                          55 non-null     object \n",
      " 61  Surface                       55 non-null     object \n",
      " 62  Temperature                   55 non-null     int64  \n",
      " 63  Humidity                      55 non-null     int64  \n",
      " 64  Wind_Speed                    55 non-null     int64  \n",
      " 65  Vegas_Line                    55 non-null     float64\n",
      " 66  Vegas_Favorite                55 non-null     object \n",
      " 67  Over_Under                    55 non-null     float64\n",
      " 68  game_date                     55 non-null     object \n",
      "dtypes: bool(1), float64(10), int64(45), object(13)\n",
      "memory usage: 29.7+ KB\n",
      "None\n",
      "55\n"
     ]
    }
   ],
   "source": [
    "print(player.info())\n",
    "print(len(player))"
   ]
  },
  {
   "cell_type": "code",
   "execution_count": 8,
   "metadata": {},
   "outputs": [
    {
     "data": {
      "text/plain": [
       "BUF    55\n",
       "Name: team, dtype: int64"
      ]
     },
     "execution_count": 8,
     "metadata": {},
     "output_type": "execute_result"
    }
   ],
   "source": [
    "player['team'].value_counts()"
   ]
  },
  {
   "cell_type": "code",
   "execution_count": 13,
   "metadata": {},
   "outputs": [
    {
     "data": {
      "text/plain": [
       "54"
      ]
     },
     "execution_count": 13,
     "metadata": {},
     "output_type": "execute_result"
    }
   ],
   "source": [
    "defense = def_stats[def_stats['team'] == \"GNB\"]\n",
    "len(defense)\n",
    "\n"
   ]
  },
  {
   "cell_type": "code",
   "execution_count": null,
   "metadata": {},
   "outputs": [],
   "source": [
    "def_stats[]"
   ]
  }
 ],
 "metadata": {
  "kernelspec": {
   "display_name": "Python 3.10.7 64-bit",
   "language": "python",
   "name": "python3"
  },
  "language_info": {
   "codemirror_mode": {
    "name": "ipython",
    "version": 3
   },
   "file_extension": ".py",
   "mimetype": "text/x-python",
   "name": "python",
   "nbconvert_exporter": "python",
   "pygments_lexer": "ipython3",
   "version": "3.10.7"
  },
  "orig_nbformat": 4,
  "vscode": {
   "interpreter": {
    "hash": "ea745274410781b079e2f31ab7d89a6eec851da5dd4294ce6070b55cd395c183"
   }
  }
 },
 "nbformat": 4,
 "nbformat_minor": 2
}
